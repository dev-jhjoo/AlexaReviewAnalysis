{
 "nbformat": 4,
 "nbformat_minor": 0,
 "metadata": {
  "colab": {
   "provenance": [],
   "authorship_tag": "ABX9TyPELRJCNClCUjHikCp8kiQh"
  },
  "kernelspec": {
   "name": "python3",
   "display_name": "Python 3 (ipykernel)",
   "language": "python"
  },
  "language_info": {
   "name": "python"
  },
  "widgets": {
   "application/vnd.jupyter.widget-state+json": {
    "d95e30bdc0704403ac8c725511d8e793": {
     "model_module": "@jupyter-widgets/controls",
     "model_name": "HBoxModel",
     "model_module_version": "1.5.0",
     "state": {
      "_dom_classes": [],
      "_model_module": "@jupyter-widgets/controls",
      "_model_module_version": "1.5.0",
      "_model_name": "HBoxModel",
      "_view_count": null,
      "_view_module": "@jupyter-widgets/controls",
      "_view_module_version": "1.5.0",
      "_view_name": "HBoxView",
      "box_style": "",
      "children": [
       "IPY_MODEL_d832489367d84688b0b20852f8806a28",
       "IPY_MODEL_e6b8e025e88f4bc1ab7d494d68642134",
       "IPY_MODEL_985d821139414c86ac901fbfb73e69a4"
      ],
      "layout": "IPY_MODEL_0e6a37870fe44982864dec8b2c2562ae"
     }
    },
    "d832489367d84688b0b20852f8806a28": {
     "model_module": "@jupyter-widgets/controls",
     "model_name": "HTMLModel",
     "model_module_version": "1.5.0",
     "state": {
      "_dom_classes": [],
      "_model_module": "@jupyter-widgets/controls",
      "_model_module_version": "1.5.0",
      "_model_name": "HTMLModel",
      "_view_count": null,
      "_view_module": "@jupyter-widgets/controls",
      "_view_module_version": "1.5.0",
      "_view_name": "HTMLView",
      "description": "",
      "description_tooltip": null,
      "layout": "IPY_MODEL_147c58034783465098fabe16302c9e1a",
      "placeholder": "​",
      "style": "IPY_MODEL_eb65a340aaef4b76a77c1e1cbc29f789",
      "value": "Map: 100%"
     }
    },
    "e6b8e025e88f4bc1ab7d494d68642134": {
     "model_module": "@jupyter-widgets/controls",
     "model_name": "FloatProgressModel",
     "model_module_version": "1.5.0",
     "state": {
      "_dom_classes": [],
      "_model_module": "@jupyter-widgets/controls",
      "_model_module_version": "1.5.0",
      "_model_name": "FloatProgressModel",
      "_view_count": null,
      "_view_module": "@jupyter-widgets/controls",
      "_view_module_version": "1.5.0",
      "_view_name": "ProgressView",
      "bar_style": "success",
      "description": "",
      "description_tooltip": null,
      "layout": "IPY_MODEL_817865384cb340988aef1c4652f5acd3",
      "max": 2456,
      "min": 0,
      "orientation": "horizontal",
      "style": "IPY_MODEL_71ed316d28ab4d8294c0ee4723aa0088",
      "value": 2456
     }
    },
    "985d821139414c86ac901fbfb73e69a4": {
     "model_module": "@jupyter-widgets/controls",
     "model_name": "HTMLModel",
     "model_module_version": "1.5.0",
     "state": {
      "_dom_classes": [],
      "_model_module": "@jupyter-widgets/controls",
      "_model_module_version": "1.5.0",
      "_model_name": "HTMLModel",
      "_view_count": null,
      "_view_module": "@jupyter-widgets/controls",
      "_view_module_version": "1.5.0",
      "_view_name": "HTMLView",
      "description": "",
      "description_tooltip": null,
      "layout": "IPY_MODEL_c3f693ba63214e7c8e2d3d565fe4d21e",
      "placeholder": "​",
      "style": "IPY_MODEL_196e0ef873604a41bdbd05e962055ad9",
      "value": " 2456/2456 [00:06&lt;00:00, 347.94 examples/s]"
     }
    },
    "0e6a37870fe44982864dec8b2c2562ae": {
     "model_module": "@jupyter-widgets/base",
     "model_name": "LayoutModel",
     "model_module_version": "1.2.0",
     "state": {
      "_model_module": "@jupyter-widgets/base",
      "_model_module_version": "1.2.0",
      "_model_name": "LayoutModel",
      "_view_count": null,
      "_view_module": "@jupyter-widgets/base",
      "_view_module_version": "1.2.0",
      "_view_name": "LayoutView",
      "align_content": null,
      "align_items": null,
      "align_self": null,
      "border": null,
      "bottom": null,
      "display": null,
      "flex": null,
      "flex_flow": null,
      "grid_area": null,
      "grid_auto_columns": null,
      "grid_auto_flow": null,
      "grid_auto_rows": null,
      "grid_column": null,
      "grid_gap": null,
      "grid_row": null,
      "grid_template_areas": null,
      "grid_template_columns": null,
      "grid_template_rows": null,
      "height": null,
      "justify_content": null,
      "justify_items": null,
      "left": null,
      "margin": null,
      "max_height": null,
      "max_width": null,
      "min_height": null,
      "min_width": null,
      "object_fit": null,
      "object_position": null,
      "order": null,
      "overflow": null,
      "overflow_x": null,
      "overflow_y": null,
      "padding": null,
      "right": null,
      "top": null,
      "visibility": null,
      "width": null
     }
    },
    "147c58034783465098fabe16302c9e1a": {
     "model_module": "@jupyter-widgets/base",
     "model_name": "LayoutModel",
     "model_module_version": "1.2.0",
     "state": {
      "_model_module": "@jupyter-widgets/base",
      "_model_module_version": "1.2.0",
      "_model_name": "LayoutModel",
      "_view_count": null,
      "_view_module": "@jupyter-widgets/base",
      "_view_module_version": "1.2.0",
      "_view_name": "LayoutView",
      "align_content": null,
      "align_items": null,
      "align_self": null,
      "border": null,
      "bottom": null,
      "display": null,
      "flex": null,
      "flex_flow": null,
      "grid_area": null,
      "grid_auto_columns": null,
      "grid_auto_flow": null,
      "grid_auto_rows": null,
      "grid_column": null,
      "grid_gap": null,
      "grid_row": null,
      "grid_template_areas": null,
      "grid_template_columns": null,
      "grid_template_rows": null,
      "height": null,
      "justify_content": null,
      "justify_items": null,
      "left": null,
      "margin": null,
      "max_height": null,
      "max_width": null,
      "min_height": null,
      "min_width": null,
      "object_fit": null,
      "object_position": null,
      "order": null,
      "overflow": null,
      "overflow_x": null,
      "overflow_y": null,
      "padding": null,
      "right": null,
      "top": null,
      "visibility": null,
      "width": null
     }
    },
    "eb65a340aaef4b76a77c1e1cbc29f789": {
     "model_module": "@jupyter-widgets/controls",
     "model_name": "DescriptionStyleModel",
     "model_module_version": "1.5.0",
     "state": {
      "_model_module": "@jupyter-widgets/controls",
      "_model_module_version": "1.5.0",
      "_model_name": "DescriptionStyleModel",
      "_view_count": null,
      "_view_module": "@jupyter-widgets/base",
      "_view_module_version": "1.2.0",
      "_view_name": "StyleView",
      "description_width": ""
     }
    },
    "817865384cb340988aef1c4652f5acd3": {
     "model_module": "@jupyter-widgets/base",
     "model_name": "LayoutModel",
     "model_module_version": "1.2.0",
     "state": {
      "_model_module": "@jupyter-widgets/base",
      "_model_module_version": "1.2.0",
      "_model_name": "LayoutModel",
      "_view_count": null,
      "_view_module": "@jupyter-widgets/base",
      "_view_module_version": "1.2.0",
      "_view_name": "LayoutView",
      "align_content": null,
      "align_items": null,
      "align_self": null,
      "border": null,
      "bottom": null,
      "display": null,
      "flex": null,
      "flex_flow": null,
      "grid_area": null,
      "grid_auto_columns": null,
      "grid_auto_flow": null,
      "grid_auto_rows": null,
      "grid_column": null,
      "grid_gap": null,
      "grid_row": null,
      "grid_template_areas": null,
      "grid_template_columns": null,
      "grid_template_rows": null,
      "height": null,
      "justify_content": null,
      "justify_items": null,
      "left": null,
      "margin": null,
      "max_height": null,
      "max_width": null,
      "min_height": null,
      "min_width": null,
      "object_fit": null,
      "object_position": null,
      "order": null,
      "overflow": null,
      "overflow_x": null,
      "overflow_y": null,
      "padding": null,
      "right": null,
      "top": null,
      "visibility": null,
      "width": null
     }
    },
    "71ed316d28ab4d8294c0ee4723aa0088": {
     "model_module": "@jupyter-widgets/controls",
     "model_name": "ProgressStyleModel",
     "model_module_version": "1.5.0",
     "state": {
      "_model_module": "@jupyter-widgets/controls",
      "_model_module_version": "1.5.0",
      "_model_name": "ProgressStyleModel",
      "_view_count": null,
      "_view_module": "@jupyter-widgets/base",
      "_view_module_version": "1.2.0",
      "_view_name": "StyleView",
      "bar_color": null,
      "description_width": ""
     }
    },
    "c3f693ba63214e7c8e2d3d565fe4d21e": {
     "model_module": "@jupyter-widgets/base",
     "model_name": "LayoutModel",
     "model_module_version": "1.2.0",
     "state": {
      "_model_module": "@jupyter-widgets/base",
      "_model_module_version": "1.2.0",
      "_model_name": "LayoutModel",
      "_view_count": null,
      "_view_module": "@jupyter-widgets/base",
      "_view_module_version": "1.2.0",
      "_view_name": "LayoutView",
      "align_content": null,
      "align_items": null,
      "align_self": null,
      "border": null,
      "bottom": null,
      "display": null,
      "flex": null,
      "flex_flow": null,
      "grid_area": null,
      "grid_auto_columns": null,
      "grid_auto_flow": null,
      "grid_auto_rows": null,
      "grid_column": null,
      "grid_gap": null,
      "grid_row": null,
      "grid_template_areas": null,
      "grid_template_columns": null,
      "grid_template_rows": null,
      "height": null,
      "justify_content": null,
      "justify_items": null,
      "left": null,
      "margin": null,
      "max_height": null,
      "max_width": null,
      "min_height": null,
      "min_width": null,
      "object_fit": null,
      "object_position": null,
      "order": null,
      "overflow": null,
      "overflow_x": null,
      "overflow_y": null,
      "padding": null,
      "right": null,
      "top": null,
      "visibility": null,
      "width": null
     }
    },
    "196e0ef873604a41bdbd05e962055ad9": {
     "model_module": "@jupyter-widgets/controls",
     "model_name": "DescriptionStyleModel",
     "model_module_version": "1.5.0",
     "state": {
      "_model_module": "@jupyter-widgets/controls",
      "_model_module_version": "1.5.0",
      "_model_name": "DescriptionStyleModel",
      "_view_count": null,
      "_view_module": "@jupyter-widgets/base",
      "_view_module_version": "1.2.0",
      "_view_name": "StyleView",
      "description_width": ""
     }
    },
    "8e69b94c5cb948cabf829d25ef6628b6": {
     "model_module": "@jupyter-widgets/controls",
     "model_name": "HBoxModel",
     "model_module_version": "1.5.0",
     "state": {
      "_dom_classes": [],
      "_model_module": "@jupyter-widgets/controls",
      "_model_module_version": "1.5.0",
      "_model_name": "HBoxModel",
      "_view_count": null,
      "_view_module": "@jupyter-widgets/controls",
      "_view_module_version": "1.5.0",
      "_view_name": "HBoxView",
      "box_style": "",
      "children": [
       "IPY_MODEL_56b63bb6406742c183c77fe0fdd73951",
       "IPY_MODEL_88e853a632fb4165b22f3f5344fc87d2",
       "IPY_MODEL_8c515548d1404716a94a85bb3df06a69"
      ],
      "layout": "IPY_MODEL_df8840787ecc45b59d685cebec8d1447"
     }
    },
    "56b63bb6406742c183c77fe0fdd73951": {
     "model_module": "@jupyter-widgets/controls",
     "model_name": "HTMLModel",
     "model_module_version": "1.5.0",
     "state": {
      "_dom_classes": [],
      "_model_module": "@jupyter-widgets/controls",
      "_model_module_version": "1.5.0",
      "_model_name": "HTMLModel",
      "_view_count": null,
      "_view_module": "@jupyter-widgets/controls",
      "_view_module_version": "1.5.0",
      "_view_name": "HTMLView",
      "description": "",
      "description_tooltip": null,
      "layout": "IPY_MODEL_d8a7b8e06a574521a134522fa9ec5f68",
      "placeholder": "​",
      "style": "IPY_MODEL_0f440b26affe451b83ebc9c329f4610a",
      "value": "Map: 100%"
     }
    },
    "88e853a632fb4165b22f3f5344fc87d2": {
     "model_module": "@jupyter-widgets/controls",
     "model_name": "FloatProgressModel",
     "model_module_version": "1.5.0",
     "state": {
      "_dom_classes": [],
      "_model_module": "@jupyter-widgets/controls",
      "_model_module_version": "1.5.0",
      "_model_name": "FloatProgressModel",
      "_view_count": null,
      "_view_module": "@jupyter-widgets/controls",
      "_view_module_version": "1.5.0",
      "_view_name": "ProgressView",
      "bar_style": "success",
      "description": "",
      "description_tooltip": null,
      "layout": "IPY_MODEL_34f5602079a34d2ca2411a2d6d981f2c",
      "max": 614,
      "min": 0,
      "orientation": "horizontal",
      "style": "IPY_MODEL_c3140ea7270f4cfea7632a7f6e807a17",
      "value": 614
     }
    },
    "8c515548d1404716a94a85bb3df06a69": {
     "model_module": "@jupyter-widgets/controls",
     "model_name": "HTMLModel",
     "model_module_version": "1.5.0",
     "state": {
      "_dom_classes": [],
      "_model_module": "@jupyter-widgets/controls",
      "_model_module_version": "1.5.0",
      "_model_name": "HTMLModel",
      "_view_count": null,
      "_view_module": "@jupyter-widgets/controls",
      "_view_module_version": "1.5.0",
      "_view_name": "HTMLView",
      "description": "",
      "description_tooltip": null,
      "layout": "IPY_MODEL_d56097243f7b43ea834d307076b096fe",
      "placeholder": "​",
      "style": "IPY_MODEL_62b49af539d4485ba36f2c740fd60fc9",
      "value": " 614/614 [00:01&lt;00:00, 474.77 examples/s]"
     }
    },
    "df8840787ecc45b59d685cebec8d1447": {
     "model_module": "@jupyter-widgets/base",
     "model_name": "LayoutModel",
     "model_module_version": "1.2.0",
     "state": {
      "_model_module": "@jupyter-widgets/base",
      "_model_module_version": "1.2.0",
      "_model_name": "LayoutModel",
      "_view_count": null,
      "_view_module": "@jupyter-widgets/base",
      "_view_module_version": "1.2.0",
      "_view_name": "LayoutView",
      "align_content": null,
      "align_items": null,
      "align_self": null,
      "border": null,
      "bottom": null,
      "display": null,
      "flex": null,
      "flex_flow": null,
      "grid_area": null,
      "grid_auto_columns": null,
      "grid_auto_flow": null,
      "grid_auto_rows": null,
      "grid_column": null,
      "grid_gap": null,
      "grid_row": null,
      "grid_template_areas": null,
      "grid_template_columns": null,
      "grid_template_rows": null,
      "height": null,
      "justify_content": null,
      "justify_items": null,
      "left": null,
      "margin": null,
      "max_height": null,
      "max_width": null,
      "min_height": null,
      "min_width": null,
      "object_fit": null,
      "object_position": null,
      "order": null,
      "overflow": null,
      "overflow_x": null,
      "overflow_y": null,
      "padding": null,
      "right": null,
      "top": null,
      "visibility": null,
      "width": null
     }
    },
    "d8a7b8e06a574521a134522fa9ec5f68": {
     "model_module": "@jupyter-widgets/base",
     "model_name": "LayoutModel",
     "model_module_version": "1.2.0",
     "state": {
      "_model_module": "@jupyter-widgets/base",
      "_model_module_version": "1.2.0",
      "_model_name": "LayoutModel",
      "_view_count": null,
      "_view_module": "@jupyter-widgets/base",
      "_view_module_version": "1.2.0",
      "_view_name": "LayoutView",
      "align_content": null,
      "align_items": null,
      "align_self": null,
      "border": null,
      "bottom": null,
      "display": null,
      "flex": null,
      "flex_flow": null,
      "grid_area": null,
      "grid_auto_columns": null,
      "grid_auto_flow": null,
      "grid_auto_rows": null,
      "grid_column": null,
      "grid_gap": null,
      "grid_row": null,
      "grid_template_areas": null,
      "grid_template_columns": null,
      "grid_template_rows": null,
      "height": null,
      "justify_content": null,
      "justify_items": null,
      "left": null,
      "margin": null,
      "max_height": null,
      "max_width": null,
      "min_height": null,
      "min_width": null,
      "object_fit": null,
      "object_position": null,
      "order": null,
      "overflow": null,
      "overflow_x": null,
      "overflow_y": null,
      "padding": null,
      "right": null,
      "top": null,
      "visibility": null,
      "width": null
     }
    },
    "0f440b26affe451b83ebc9c329f4610a": {
     "model_module": "@jupyter-widgets/controls",
     "model_name": "DescriptionStyleModel",
     "model_module_version": "1.5.0",
     "state": {
      "_model_module": "@jupyter-widgets/controls",
      "_model_module_version": "1.5.0",
      "_model_name": "DescriptionStyleModel",
      "_view_count": null,
      "_view_module": "@jupyter-widgets/base",
      "_view_module_version": "1.2.0",
      "_view_name": "StyleView",
      "description_width": ""
     }
    },
    "34f5602079a34d2ca2411a2d6d981f2c": {
     "model_module": "@jupyter-widgets/base",
     "model_name": "LayoutModel",
     "model_module_version": "1.2.0",
     "state": {
      "_model_module": "@jupyter-widgets/base",
      "_model_module_version": "1.2.0",
      "_model_name": "LayoutModel",
      "_view_count": null,
      "_view_module": "@jupyter-widgets/base",
      "_view_module_version": "1.2.0",
      "_view_name": "LayoutView",
      "align_content": null,
      "align_items": null,
      "align_self": null,
      "border": null,
      "bottom": null,
      "display": null,
      "flex": null,
      "flex_flow": null,
      "grid_area": null,
      "grid_auto_columns": null,
      "grid_auto_flow": null,
      "grid_auto_rows": null,
      "grid_column": null,
      "grid_gap": null,
      "grid_row": null,
      "grid_template_areas": null,
      "grid_template_columns": null,
      "grid_template_rows": null,
      "height": null,
      "justify_content": null,
      "justify_items": null,
      "left": null,
      "margin": null,
      "max_height": null,
      "max_width": null,
      "min_height": null,
      "min_width": null,
      "object_fit": null,
      "object_position": null,
      "order": null,
      "overflow": null,
      "overflow_x": null,
      "overflow_y": null,
      "padding": null,
      "right": null,
      "top": null,
      "visibility": null,
      "width": null
     }
    },
    "c3140ea7270f4cfea7632a7f6e807a17": {
     "model_module": "@jupyter-widgets/controls",
     "model_name": "ProgressStyleModel",
     "model_module_version": "1.5.0",
     "state": {
      "_model_module": "@jupyter-widgets/controls",
      "_model_module_version": "1.5.0",
      "_model_name": "ProgressStyleModel",
      "_view_count": null,
      "_view_module": "@jupyter-widgets/base",
      "_view_module_version": "1.2.0",
      "_view_name": "StyleView",
      "bar_color": null,
      "description_width": ""
     }
    },
    "d56097243f7b43ea834d307076b096fe": {
     "model_module": "@jupyter-widgets/base",
     "model_name": "LayoutModel",
     "model_module_version": "1.2.0",
     "state": {
      "_model_module": "@jupyter-widgets/base",
      "_model_module_version": "1.2.0",
      "_model_name": "LayoutModel",
      "_view_count": null,
      "_view_module": "@jupyter-widgets/base",
      "_view_module_version": "1.2.0",
      "_view_name": "LayoutView",
      "align_content": null,
      "align_items": null,
      "align_self": null,
      "border": null,
      "bottom": null,
      "display": null,
      "flex": null,
      "flex_flow": null,
      "grid_area": null,
      "grid_auto_columns": null,
      "grid_auto_flow": null,
      "grid_auto_rows": null,
      "grid_column": null,
      "grid_gap": null,
      "grid_row": null,
      "grid_template_areas": null,
      "grid_template_columns": null,
      "grid_template_rows": null,
      "height": null,
      "justify_content": null,
      "justify_items": null,
      "left": null,
      "margin": null,
      "max_height": null,
      "max_width": null,
      "min_height": null,
      "min_width": null,
      "object_fit": null,
      "object_position": null,
      "order": null,
      "overflow": null,
      "overflow_x": null,
      "overflow_y": null,
      "padding": null,
      "right": null,
      "top": null,
      "visibility": null,
      "width": null
     }
    },
    "62b49af539d4485ba36f2c740fd60fc9": {
     "model_module": "@jupyter-widgets/controls",
     "model_name": "DescriptionStyleModel",
     "model_module_version": "1.5.0",
     "state": {
      "_model_module": "@jupyter-widgets/controls",
      "_model_module_version": "1.5.0",
      "_model_name": "DescriptionStyleModel",
      "_view_count": null,
      "_view_module": "@jupyter-widgets/base",
      "_view_module_version": "1.2.0",
      "_view_name": "StyleView",
      "description_width": ""
     }
    }
   }
  }
 },
 "cells": [
  {
   "cell_type": "markdown",
   "source": [
    "# 3차 프로젝트\n",
    "---\n",
    "\n",
    "> * 목적: AI 스피커 제품 출시 전 상대제품 리뷰 분석 후 개선점 예측 모델\n",
    ">\n",
    "> * 데이터셋: Alexa 리뷰 데이터 분석 [바로가기](https://www.kaggle.com/datasets/sid321axn/amazon-alexa-reviews/data)\n"
   ],
   "metadata": {
    "id": "XfiUz7rUd61K"
   }
  },
  {
   "cell_type": "markdown",
   "source": [
    "## 라이브러리 선언"
   ],
   "metadata": {
    "id": "nrasDfoyhJUc"
   }
  },
  {
   "cell_type": "code",
   "metadata": {
    "id": "DDn1Q3Gcd0sG",
    "executionInfo": {
     "status": "ok",
     "timestamp": 1729209207438,
     "user_tz": -540,
     "elapsed": 2834,
     "user": {
      "displayName": "주곰돌",
      "userId": "12691774689057394647"
     }
    },
    "ExecuteTime": {
     "end_time": "2024-10-18T00:42:24.836289Z",
     "start_time": "2024-10-18T00:42:24.831552Z"
    }
   },
   "source": [
    "import pandas as pd\n",
    "import numpy as np\n",
    "import matplotlib.pyplot as plt\n",
    "import seaborn as sns"
   ],
   "outputs": [],
   "execution_count": 2
  },
  {
   "cell_type": "markdown",
   "source": [
    "## 데이터 로드"
   ],
   "metadata": {
    "id": "GhJFaJ1qhHcm"
   }
  },
  {
   "cell_type": "code",
   "source": [
    "df = pd.read_csv('data/amazon_alexa.tsv', sep='\\t')\n",
    "df.head()"
   ],
   "metadata": {
    "colab": {
     "base_uri": "https://localhost:8080/",
     "height": 206
    },
    "id": "3zPc6UL2fG5u",
    "executionInfo": {
     "status": "ok",
     "timestamp": 1729209237065,
     "user_tz": -540,
     "elapsed": 390,
     "user": {
      "displayName": "주곰돌",
      "userId": "12691774689057394647"
     }
    },
    "outputId": "7aba77e4-b629-498a-d3c9-8135a4f938ef",
    "ExecuteTime": {
     "end_time": "2024-10-18T00:42:24.914749Z",
     "start_time": "2024-10-18T00:42:24.889505Z"
    }
   },
   "outputs": [
    {
     "data": {
      "text/plain": [
       "   rating       date         variation  \\\n",
       "0       5  31-Jul-18  Charcoal Fabric    \n",
       "1       5  31-Jul-18  Charcoal Fabric    \n",
       "2       4  31-Jul-18    Walnut Finish    \n",
       "3       5  31-Jul-18  Charcoal Fabric    \n",
       "4       5  31-Jul-18  Charcoal Fabric    \n",
       "\n",
       "                                    verified_reviews  feedback  \n",
       "0                                      Love my Echo!         1  \n",
       "1                                          Loved it!         1  \n",
       "2  Sometimes while playing a game, you can answer...         1  \n",
       "3  I have had a lot of fun with this thing. My 4 ...         1  \n",
       "4                                              Music         1  "
      ],
      "text/html": [
       "<div>\n",
       "<style scoped>\n",
       "    .dataframe tbody tr th:only-of-type {\n",
       "        vertical-align: middle;\n",
       "    }\n",
       "\n",
       "    .dataframe tbody tr th {\n",
       "        vertical-align: top;\n",
       "    }\n",
       "\n",
       "    .dataframe thead th {\n",
       "        text-align: right;\n",
       "    }\n",
       "</style>\n",
       "<table border=\"1\" class=\"dataframe\">\n",
       "  <thead>\n",
       "    <tr style=\"text-align: right;\">\n",
       "      <th></th>\n",
       "      <th>rating</th>\n",
       "      <th>date</th>\n",
       "      <th>variation</th>\n",
       "      <th>verified_reviews</th>\n",
       "      <th>feedback</th>\n",
       "    </tr>\n",
       "  </thead>\n",
       "  <tbody>\n",
       "    <tr>\n",
       "      <th>0</th>\n",
       "      <td>5</td>\n",
       "      <td>31-Jul-18</td>\n",
       "      <td>Charcoal Fabric</td>\n",
       "      <td>Love my Echo!</td>\n",
       "      <td>1</td>\n",
       "    </tr>\n",
       "    <tr>\n",
       "      <th>1</th>\n",
       "      <td>5</td>\n",
       "      <td>31-Jul-18</td>\n",
       "      <td>Charcoal Fabric</td>\n",
       "      <td>Loved it!</td>\n",
       "      <td>1</td>\n",
       "    </tr>\n",
       "    <tr>\n",
       "      <th>2</th>\n",
       "      <td>4</td>\n",
       "      <td>31-Jul-18</td>\n",
       "      <td>Walnut Finish</td>\n",
       "      <td>Sometimes while playing a game, you can answer...</td>\n",
       "      <td>1</td>\n",
       "    </tr>\n",
       "    <tr>\n",
       "      <th>3</th>\n",
       "      <td>5</td>\n",
       "      <td>31-Jul-18</td>\n",
       "      <td>Charcoal Fabric</td>\n",
       "      <td>I have had a lot of fun with this thing. My 4 ...</td>\n",
       "      <td>1</td>\n",
       "    </tr>\n",
       "    <tr>\n",
       "      <th>4</th>\n",
       "      <td>5</td>\n",
       "      <td>31-Jul-18</td>\n",
       "      <td>Charcoal Fabric</td>\n",
       "      <td>Music</td>\n",
       "      <td>1</td>\n",
       "    </tr>\n",
       "  </tbody>\n",
       "</table>\n",
       "</div>"
      ]
     },
     "execution_count": 3,
     "metadata": {},
     "output_type": "execute_result"
    }
   ],
   "execution_count": 3
  },
  {
   "cell_type": "code",
   "source": [
    "df.info()"
   ],
   "metadata": {
    "colab": {
     "base_uri": "https://localhost:8080/"
    },
    "id": "o4FKLaBQfWK5",
    "executionInfo": {
     "status": "ok",
     "timestamp": 1729152011779,
     "user_tz": -540,
     "elapsed": 389,
     "user": {
      "displayName": "주곰돌",
      "userId": "12691774689057394647"
     }
    },
    "outputId": "92b1b0a5-5750-407d-8506-116096620088",
    "ExecuteTime": {
     "end_time": "2024-10-18T00:42:24.974177Z",
     "start_time": "2024-10-18T00:42:24.963376Z"
    }
   },
   "outputs": [
    {
     "name": "stdout",
     "output_type": "stream",
     "text": [
      "<class 'pandas.core.frame.DataFrame'>\n",
      "RangeIndex: 3150 entries, 0 to 3149\n",
      "Data columns (total 5 columns):\n",
      " #   Column            Non-Null Count  Dtype \n",
      "---  ------            --------------  ----- \n",
      " 0   rating            3150 non-null   int64 \n",
      " 1   date              3150 non-null   object\n",
      " 2   variation         3150 non-null   object\n",
      " 3   verified_reviews  3149 non-null   object\n",
      " 4   feedback          3150 non-null   int64 \n",
      "dtypes: int64(2), object(3)\n",
      "memory usage: 123.2+ KB\n"
     ]
    }
   ],
   "execution_count": 4
  },
  {
   "cell_type": "code",
   "source": [
    "df.describe()"
   ],
   "metadata": {
    "colab": {
     "base_uri": "https://localhost:8080/",
     "height": 300
    },
    "id": "lmtBtGnFfcpa",
    "executionInfo": {
     "status": "ok",
     "timestamp": 1729152032403,
     "user_tz": -540,
     "elapsed": 366,
     "user": {
      "displayName": "주곰돌",
      "userId": "12691774689057394647"
     }
    },
    "outputId": "27423dde-a251-483d-e665-fa02e31518ba",
    "ExecuteTime": {
     "end_time": "2024-10-18T00:42:25.056707Z",
     "start_time": "2024-10-18T00:42:25.045021Z"
    }
   },
   "outputs": [
    {
     "data": {
      "text/plain": [
       "            rating     feedback\n",
       "count  3150.000000  3150.000000\n",
       "mean      4.463175     0.918413\n",
       "std       1.068506     0.273778\n",
       "min       1.000000     0.000000\n",
       "25%       4.000000     1.000000\n",
       "50%       5.000000     1.000000\n",
       "75%       5.000000     1.000000\n",
       "max       5.000000     1.000000"
      ],
      "text/html": [
       "<div>\n",
       "<style scoped>\n",
       "    .dataframe tbody tr th:only-of-type {\n",
       "        vertical-align: middle;\n",
       "    }\n",
       "\n",
       "    .dataframe tbody tr th {\n",
       "        vertical-align: top;\n",
       "    }\n",
       "\n",
       "    .dataframe thead th {\n",
       "        text-align: right;\n",
       "    }\n",
       "</style>\n",
       "<table border=\"1\" class=\"dataframe\">\n",
       "  <thead>\n",
       "    <tr style=\"text-align: right;\">\n",
       "      <th></th>\n",
       "      <th>rating</th>\n",
       "      <th>feedback</th>\n",
       "    </tr>\n",
       "  </thead>\n",
       "  <tbody>\n",
       "    <tr>\n",
       "      <th>count</th>\n",
       "      <td>3150.000000</td>\n",
       "      <td>3150.000000</td>\n",
       "    </tr>\n",
       "    <tr>\n",
       "      <th>mean</th>\n",
       "      <td>4.463175</td>\n",
       "      <td>0.918413</td>\n",
       "    </tr>\n",
       "    <tr>\n",
       "      <th>std</th>\n",
       "      <td>1.068506</td>\n",
       "      <td>0.273778</td>\n",
       "    </tr>\n",
       "    <tr>\n",
       "      <th>min</th>\n",
       "      <td>1.000000</td>\n",
       "      <td>0.000000</td>\n",
       "    </tr>\n",
       "    <tr>\n",
       "      <th>25%</th>\n",
       "      <td>4.000000</td>\n",
       "      <td>1.000000</td>\n",
       "    </tr>\n",
       "    <tr>\n",
       "      <th>50%</th>\n",
       "      <td>5.000000</td>\n",
       "      <td>1.000000</td>\n",
       "    </tr>\n",
       "    <tr>\n",
       "      <th>75%</th>\n",
       "      <td>5.000000</td>\n",
       "      <td>1.000000</td>\n",
       "    </tr>\n",
       "    <tr>\n",
       "      <th>max</th>\n",
       "      <td>5.000000</td>\n",
       "      <td>1.000000</td>\n",
       "    </tr>\n",
       "  </tbody>\n",
       "</table>\n",
       "</div>"
      ]
     },
     "execution_count": 5,
     "metadata": {},
     "output_type": "execute_result"
    }
   ],
   "execution_count": 5
  },
  {
   "cell_type": "markdown",
   "source": [
    "## 결측치 확인 및 처리"
   ],
   "metadata": {
    "id": "Zb0q7pUahB_q"
   }
  },
  {
   "cell_type": "code",
   "source": [
    "empty_review = df['verified_reviews'].replace(' ', '') == ''\n",
    "null_review = df['verified_reviews'].isnull()\n",
    "\n",
    "df[empty_review | null_review].info()\n",
    "df[empty_review | null_review]\n"
   ],
   "metadata": {
    "colab": {
     "base_uri": "https://localhost:8080/",
     "height": 632
    },
    "id": "48R28M_Mfhsq",
    "executionInfo": {
     "status": "ok",
     "timestamp": 1729209242214,
     "user_tz": -540,
     "elapsed": 389,
     "user": {
      "displayName": "주곰돌",
      "userId": "12691774689057394647"
     }
    },
    "outputId": "ace146dc-8544-4daa-8f36-ed82f28dad79",
    "ExecuteTime": {
     "end_time": "2024-10-18T00:42:25.166714Z",
     "start_time": "2024-10-18T00:42:25.153889Z"
    }
   },
   "outputs": [
    {
     "name": "stdout",
     "output_type": "stream",
     "text": [
      "<class 'pandas.core.frame.DataFrame'>\n",
      "Index: 80 entries, 85 to 3141\n",
      "Data columns (total 5 columns):\n",
      " #   Column            Non-Null Count  Dtype \n",
      "---  ------            --------------  ----- \n",
      " 0   rating            80 non-null     int64 \n",
      " 1   date              80 non-null     object\n",
      " 2   variation         80 non-null     object\n",
      " 3   verified_reviews  79 non-null     object\n",
      " 4   feedback          80 non-null     int64 \n",
      "dtypes: int64(2), object(3)\n",
      "memory usage: 3.8+ KB\n"
     ]
    },
    {
     "data": {
      "text/plain": [
       "      rating       date             variation verified_reviews  feedback\n",
       "85         5  30-Jul-18  Heather Gray Fabric                           1\n",
       "183        3  29-Jul-18  Heather Gray Fabric                           1\n",
       "219        5  29-Jul-18     Sandstone Fabric                           1\n",
       "374        1  26-Jul-18                 Black                          0\n",
       "406        1  16-Jul-18                 White                          0\n",
       "...      ...        ...                   ...              ...       ...\n",
       "3114       3  30-Jul-18            Black  Dot                          1\n",
       "3120       5  30-Jul-18            Black  Dot                          1\n",
       "3123       4  30-Jul-18            Black  Dot                          1\n",
       "3126       5  30-Jul-18            Black  Dot                          1\n",
       "3141       3  30-Jul-18            Black  Dot                          1\n",
       "\n",
       "[80 rows x 5 columns]"
      ],
      "text/html": [
       "<div>\n",
       "<style scoped>\n",
       "    .dataframe tbody tr th:only-of-type {\n",
       "        vertical-align: middle;\n",
       "    }\n",
       "\n",
       "    .dataframe tbody tr th {\n",
       "        vertical-align: top;\n",
       "    }\n",
       "\n",
       "    .dataframe thead th {\n",
       "        text-align: right;\n",
       "    }\n",
       "</style>\n",
       "<table border=\"1\" class=\"dataframe\">\n",
       "  <thead>\n",
       "    <tr style=\"text-align: right;\">\n",
       "      <th></th>\n",
       "      <th>rating</th>\n",
       "      <th>date</th>\n",
       "      <th>variation</th>\n",
       "      <th>verified_reviews</th>\n",
       "      <th>feedback</th>\n",
       "    </tr>\n",
       "  </thead>\n",
       "  <tbody>\n",
       "    <tr>\n",
       "      <th>85</th>\n",
       "      <td>5</td>\n",
       "      <td>30-Jul-18</td>\n",
       "      <td>Heather Gray Fabric</td>\n",
       "      <td></td>\n",
       "      <td>1</td>\n",
       "    </tr>\n",
       "    <tr>\n",
       "      <th>183</th>\n",
       "      <td>3</td>\n",
       "      <td>29-Jul-18</td>\n",
       "      <td>Heather Gray Fabric</td>\n",
       "      <td></td>\n",
       "      <td>1</td>\n",
       "    </tr>\n",
       "    <tr>\n",
       "      <th>219</th>\n",
       "      <td>5</td>\n",
       "      <td>29-Jul-18</td>\n",
       "      <td>Sandstone Fabric</td>\n",
       "      <td></td>\n",
       "      <td>1</td>\n",
       "    </tr>\n",
       "    <tr>\n",
       "      <th>374</th>\n",
       "      <td>1</td>\n",
       "      <td>26-Jul-18</td>\n",
       "      <td>Black</td>\n",
       "      <td></td>\n",
       "      <td>0</td>\n",
       "    </tr>\n",
       "    <tr>\n",
       "      <th>406</th>\n",
       "      <td>1</td>\n",
       "      <td>16-Jul-18</td>\n",
       "      <td>White</td>\n",
       "      <td></td>\n",
       "      <td>0</td>\n",
       "    </tr>\n",
       "    <tr>\n",
       "      <th>...</th>\n",
       "      <td>...</td>\n",
       "      <td>...</td>\n",
       "      <td>...</td>\n",
       "      <td>...</td>\n",
       "      <td>...</td>\n",
       "    </tr>\n",
       "    <tr>\n",
       "      <th>3114</th>\n",
       "      <td>3</td>\n",
       "      <td>30-Jul-18</td>\n",
       "      <td>Black  Dot</td>\n",
       "      <td></td>\n",
       "      <td>1</td>\n",
       "    </tr>\n",
       "    <tr>\n",
       "      <th>3120</th>\n",
       "      <td>5</td>\n",
       "      <td>30-Jul-18</td>\n",
       "      <td>Black  Dot</td>\n",
       "      <td></td>\n",
       "      <td>1</td>\n",
       "    </tr>\n",
       "    <tr>\n",
       "      <th>3123</th>\n",
       "      <td>4</td>\n",
       "      <td>30-Jul-18</td>\n",
       "      <td>Black  Dot</td>\n",
       "      <td></td>\n",
       "      <td>1</td>\n",
       "    </tr>\n",
       "    <tr>\n",
       "      <th>3126</th>\n",
       "      <td>5</td>\n",
       "      <td>30-Jul-18</td>\n",
       "      <td>Black  Dot</td>\n",
       "      <td></td>\n",
       "      <td>1</td>\n",
       "    </tr>\n",
       "    <tr>\n",
       "      <th>3141</th>\n",
       "      <td>3</td>\n",
       "      <td>30-Jul-18</td>\n",
       "      <td>Black  Dot</td>\n",
       "      <td></td>\n",
       "      <td>1</td>\n",
       "    </tr>\n",
       "  </tbody>\n",
       "</table>\n",
       "<p>80 rows × 5 columns</p>\n",
       "</div>"
      ]
     },
     "execution_count": 6,
     "metadata": {},
     "output_type": "execute_result"
    }
   ],
   "execution_count": 6
  },
  {
   "cell_type": "markdown",
   "source": [
    "### null 값 또는 빈 문자열 리뷰 제거"
   ],
   "metadata": {
    "id": "iVVeUHsjmD77"
   }
  },
  {
   "cell_type": "code",
   "source": [
    "cleaned_df = df.drop(df[empty_review | null_review].index)\n",
    "cleaned_df.info()"
   ],
   "metadata": {
    "colab": {
     "base_uri": "https://localhost:8080/"
    },
    "id": "iTwJJDl6jCsB",
    "executionInfo": {
     "status": "ok",
     "timestamp": 1729209245717,
     "user_tz": -540,
     "elapsed": 394,
     "user": {
      "displayName": "주곰돌",
      "userId": "12691774689057394647"
     }
    },
    "outputId": "727a7b4f-75d0-48dc-f39e-b7b2e716f047",
    "ExecuteTime": {
     "end_time": "2024-10-18T00:42:25.278631Z",
     "start_time": "2024-10-18T00:42:25.266986Z"
    }
   },
   "outputs": [
    {
     "name": "stdout",
     "output_type": "stream",
     "text": [
      "<class 'pandas.core.frame.DataFrame'>\n",
      "Index: 3070 entries, 0 to 3149\n",
      "Data columns (total 5 columns):\n",
      " #   Column            Non-Null Count  Dtype \n",
      "---  ------            --------------  ----- \n",
      " 0   rating            3070 non-null   int64 \n",
      " 1   date              3070 non-null   object\n",
      " 2   variation         3070 non-null   object\n",
      " 3   verified_reviews  3070 non-null   object\n",
      " 4   feedback          3070 non-null   int64 \n",
      "dtypes: int64(2), object(3)\n",
      "memory usage: 143.9+ KB\n"
     ]
    }
   ],
   "execution_count": 7
  },
  {
   "cell_type": "markdown",
   "source": [
    "## rating 분석 및 시각화"
   ],
   "metadata": {
    "id": "xex3QGRRl5hc"
   }
  },
  {
   "cell_type": "code",
   "source": [
    "cleaned_df.groupby('rating')['rating'].count()\n",
    "\n",
    "plt.figure(figsize=(10, 5))\n",
    "ax = sns.countplot(data=cleaned_df, x='rating')\n",
    "\n",
    "# 각 막대 위에 수치를 표시\n",
    "for p in ax.patches:\n",
    "    ax.annotate(\n",
    "        f'{int(p.get_height())}',\n",
    "         (p.get_x() + p.get_width() / 2, p.get_height() / 2),\n",
    "        ha='center',\n",
    "        va='center',\n",
    "        color='white'\n",
    "        )\n",
    "\n",
    "plt.show()"
   ],
   "metadata": {
    "colab": {
     "base_uri": "https://localhost:8080/",
     "height": 465
    },
    "id": "jWHzC_M4jTih",
    "executionInfo": {
     "status": "ok",
     "timestamp": 1729153685642,
     "user_tz": -540,
     "elapsed": 887,
     "user": {
      "displayName": "주곰돌",
      "userId": "12691774689057394647"
     }
    },
    "outputId": "e06a091c-68d5-49a0-f065-f1596442a176",
    "ExecuteTime": {
     "end_time": "2024-10-18T00:42:25.543198Z",
     "start_time": "2024-10-18T00:42:25.425194Z"
    }
   },
   "outputs": [
    {
     "data": {
      "text/plain": [
       "<Figure size 1000x500 with 1 Axes>"
      ],
      "image/png": "[encoded data removed]"
     },
     "metadata": {},
     "output_type": "display_data"
    }
   ],
   "execution_count": 8
  },
  {
   "cell_type": "markdown",
   "source": [
    "## 테스트\\#1"
   ],
   "metadata": {
    "id": "YfiSDVmJmicK"
   }
  },
  {
   "cell_type": "markdown",
   "source": [
    "### SVM, Logistic Regression, Random Forest, KNN"
   ],
   "metadata": {
    "id": "D4AeAhB8stLV"
   }
  },
  {
   "cell_type": "code",
   "source": [
    "from sklearn.feature_extraction.text import TfidfVectorizer\n",
    "from sklearn.model_selection import train_test_split\n",
    "from sklearn.svm import SVC\n",
    "from sklearn.linear_model import LogisticRegression\n",
    "from sklearn.ensemble import RandomForestClassifier\n",
    "from sklearn.neighbors import KNeighborsClassifier\n",
    "from sklearn.metrics import accuracy_score\n",
    "\n",
    "\n",
    "# 1. 리뷰 데이터와 별점 분리\n",
    "X = cleaned_df['verified_reviews']\n",
    "y = cleaned_df['rating']\n",
    "\n",
    "# 2. TF-IDF 벡터화 (텍스트 -> 숫자 변환)\n",
    "vectorizer = TfidfVectorizer(stop_words='english', max_features=1000)\n",
    "X_tfidf = vectorizer.fit_transform(X)\n",
    "\n",
    "# 3. 학습 데이터와 테스트 데이터 분리 (80% 학습, 20% 테스트)\n",
    "X_train, X_test, y_train, y_test = train_test_split(X_tfidf, y, test_size=0.2, random_state=42)\n",
    "\n",
    "\n",
    "# 4. 각 모델 학습 및 예측\n",
    "models = {\n",
    "    'SVM': SVC(kernel='linear'),\n",
    "    'Logistic Regression': LogisticRegression(),\n",
    "    'Random Forest': RandomForestClassifier(),\n",
    "    'KNN': KNeighborsClassifier(),\n",
    "}\n",
    "\n",
    "# 5. 모델별 성능 평가\n",
    "accuracy_results = {}\n",
    "for model_name, model in models.items():\n",
    "    model.fit(X_train, y_train)\n",
    "    y_pred = model.predict(X_test)\n",
    "    accuracy = accuracy_score(y_test, y_pred)\n",
    "    accuracy_results[model_name] = accuracy\n",
    "\n",
    "# 6. 모델별 정확도 출력\n",
    "for model_name, accuracy in accuracy_results.items():\n",
    "    print(f\"{model_name}: {accuracy * 100:.2f}%\")\n",
    "\n",
    "\n",
    "# Null, 공백 리뷰 제거 결과\n",
    "# SVM: 78.83%\n",
    "# Logistic Regression: 76.55%\n",
    "# Random Forest: 83.71%\n",
    "# KNN: 70.52%"
   ],
   "metadata": {
    "colab": {
     "base_uri": "https://localhost:8080/"
    },
    "id": "dk5fjuMumhra",
    "executionInfo": {
     "status": "ok",
     "timestamp": 1729155549390,
     "user_tz": -540,
     "elapsed": 4010,
     "user": {
      "displayName": "주곰돌",
      "userId": "12691774689057394647"
     }
    },
    "outputId": "f737cb8a-743e-48e9-d2b0-d90dd5e16d6e",
    "ExecuteTime": {
     "end_time": "2024-10-18T00:42:27.620087Z",
     "start_time": "2024-10-18T00:42:25.654945Z"
    }
   },
   "outputs": [
    {
     "name": "stdout",
     "output_type": "stream",
     "text": [
      "SVM: 78.83%\n",
      "Logistic Regression: 76.55%\n",
      "Random Forest: 83.39%\n",
      "KNN: 70.85%\n"
     ]
    }
   ],
   "execution_count": 9
  },
  {
   "cell_type": "markdown",
   "source": [
    "### XGBoost"
   ],
   "metadata": {
    "id": "dtw-azjysnRD"
   }
  },
  {
   "metadata": {
    "ExecuteTime": {
     "end_time": "2024-10-18T00:42:29.242555Z",
     "start_time": "2024-10-18T00:42:27.637529Z"
    }
   },
   "cell_type": "code",
   "source": "!pip install xgboost",
   "outputs": [
    {
     "name": "stdout",
     "output_type": "stream",
     "text": [
      "Requirement already satisfied: xgboost in /Users/jhjoo/miniconda3/lib/python3.12/site-packages (2.1.1)\r\n",
      "Requirement already satisfied: numpy in /Users/jhjoo/miniconda3/lib/python3.12/site-packages (from xgboost) (1.26.4)\r\n",
      "Requirement already satisfied: scipy in /Users/jhjoo/miniconda3/lib/python3.12/site-packages (from xgboost) (1.14.1)\r\n"
     ]
    }
   ],
   "execution_count": 10
  },
  {
   "cell_type": "code",
   "source": [
    "import xgboost as xgb\n",
    "from sklearn.feature_extraction.text import TfidfVectorizer\n",
    "from sklearn.model_selection import train_test_split\n",
    "from sklearn.metrics import accuracy_score\n",
    "\n",
    "# 1. 리뷰 데이터와 라벨 분리\n",
    "X = cleaned_df['verified_reviews']\n",
    "y = cleaned_df['rating'] -1  # 1부터 시작하는 라벨을 0부터 시작하는 라벨로 변환\n",
    "\n",
    "# 2. TF-IDF 벡터화\n",
    "vectorizer = TfidfVectorizer(stop_words='english', max_features=1000)\n",
    "X_tfidf = vectorizer.fit_transform(X)\n",
    "\n",
    "# 3. 학습 데이터와 테스트 데이터 분리 (80% 학습, 20% 테스트)\n",
    "X_train, X_test, y_train, y_test = train_test_split(X_tfidf, y, test_size=0.2, random_state=42)\n",
    "\n",
    "# 4. XGBoost 모델 학습\n",
    "xgb_model = xgb.XGBClassifier(use_label_encoder=False, eval_metric='logloss')\n",
    "xgb_model.fit(X_train, y_train)\n",
    "\n",
    "# 5. 테스트 데이터로 예측\n",
    "y_pred_xgb = xgb_model.predict(X_test)\n",
    "\n",
    "# 6. 성능 평가\n",
    "accuracy_xgb = accuracy_score(y_test, y_pred_xgb)\n",
    "print(f\"XGBoost Accuracy: {accuracy_xgb * 100:.2f}%\")\n"
   ],
   "metadata": {
    "colab": {
     "base_uri": "https://localhost:8080/"
    },
    "id": "eJ0MDelcsMvv",
    "executionInfo": {
     "status": "ok",
     "timestamp": 1729155437887,
     "user_tz": -540,
     "elapsed": 7210,
     "user": {
      "displayName": "주곰돌",
      "userId": "12691774689057394647"
     }
    },
    "outputId": "c1d74c75-2896-4a92-957e-9bca197fd7d1",
    "ExecuteTime": {
     "end_time": "2024-10-18T00:42:31.389886Z",
     "start_time": "2024-10-18T00:42:29.275471Z"
    }
   },
   "outputs": [
    {
     "name": "stderr",
     "output_type": "stream",
     "text": [
      "/Users/jhjoo/miniconda3/lib/python3.12/site-packages/xgboost/core.py:158: UserWarning: [09:42:29] WARNING: /Users/runner/work/xgboost/xgboost/src/learner.cc:740: \n",
      "Parameters: { \"use_label_encoder\" } are not used.\n",
      "\n",
      "  warnings.warn(smsg, UserWarning)\n"
     ]
    },
    {
     "name": "stdout",
     "output_type": "stream",
     "text": [
      "XGBoost Accuracy: 82.08%\n"
     ]
    }
   ],
   "execution_count": 11
  },
  {
   "cell_type": "markdown",
   "source": [
    "### Bert\n",
    "> Run time: Over then 2 hours...\n",
    ">\n",
    "> Do not running this part in Colab!"
   ],
   "metadata": {
    "id": "LeO6pGKxsl7X"
   }
  },
  {
   "cell_type": "code",
   "source": [
    "# !pip install datasets\n",
    "# !pip install transformers\n",
    "# !pip install torch\n",
    "# !pip install accelerate\n",
    "# !pip install scikit-learn"
   ],
   "metadata": {
    "colab": {
     "base_uri": "https://localhost:8080/"
    },
    "id": "aNlYzt6HteKC",
    "executionInfo": {
     "status": "ok",
     "timestamp": 1729155704564,
     "user_tz": -540,
     "elapsed": 10407,
     "user": {
      "displayName": "주곰돌",
      "userId": "12691774689057394647"
     }
    },
    "outputId": "a25ea86f-c1fb-4376-b19f-497ecae2c873",
    "collapsed": true,
    "ExecuteTime": {
     "end_time": "2024-10-18T00:42:31.475359Z",
     "start_time": "2024-10-18T00:42:31.471197Z"
    }
   },
   "outputs": [],
   "execution_count": 12
  },
  {
   "cell_type": "code",
   "source": [
    "import torch\n",
    "from transformers import BertTokenizer, BertForSequenceClassification\n",
    "from transformers import Trainer, TrainingArguments\n",
    "from sklearn.model_selection import train_test_split\n",
    "from datasets import Dataset\n",
    "\n",
    "# 1. 리뷰 데이터와 라벨 분리\n",
    "X = cleaned_df['verified_reviews']\n",
    "y = cleaned_df['rating'] -1 # 1부터 시작하는 라벨을 0부터 시작하는 라벨로 변환\n",
    "\n",
    "# 2. BERT Tokenizer 준비\n",
    "tokenizer = BertTokenizer.from_pretrained('bert-base-uncased')\n",
    "\n",
    "# 3. 데이터 토큰화 함수 정의\n",
    "def tokenize_function(examples):\n",
    "    return tokenizer(examples['review'], padding='max_length', truncation=True, max_length=128)\n",
    "\n",
    "# 4. 데이터셋 준비 (학습 및 테스트 분리)\n",
    "train_texts, test_texts, train_labels, test_labels = train_test_split(X, y, test_size=0.2, random_state=42)\n",
    "train_dataset = Dataset.from_dict({'review': train_texts, 'label': train_labels})\n",
    "test_dataset = Dataset.from_dict({'review': test_texts, 'label': test_labels})\n",
    "\n",
    "# 토큰화 적용\n",
    "train_dataset = train_dataset.map(tokenize_function, batched=True)\n",
    "test_dataset = test_dataset.map(tokenize_function, batched=True)\n",
    "\n",
    "# 5. BERT 모델 준비\n",
    "model = BertForSequenceClassification.from_pretrained('bert-base-uncased', num_labels=5)\n",
    "\n",
    "# 6. 학습 설정\n",
    "training_args = TrainingArguments(\n",
    "    output_dir='./results',\n",
    "    num_train_epochs=2,\n",
    "    per_device_train_batch_size=8,\n",
    "    per_device_eval_batch_size=8,\n",
    "    warmup_steps=500,\n",
    "    weight_decay=0.01,\n",
    "    logging_dir='./logs',\n",
    "    logging_steps=10,\n",
    "    evaluation_strategy=\"epoch\"\n",
    ")\n",
    "\n",
    "# 7. 트레이너 정의\n",
    "trainer = Trainer(\n",
    "    model=model,\n",
    "    args=training_args,\n",
    "    train_dataset=train_dataset,\n",
    "    eval_dataset=test_dataset\n",
    ")\n",
    "\n",
    "# 8. 모델 학습\n",
    "trainer.train()\n",
    "\n",
    "# 9. 성능 평가\n",
    "predictions = trainer.predict(test_dataset)\n",
    "preds = np.argmax(predictions.predictions, axis=-1)\n",
    "accuracy_bert = (preds == test_labels).mean()\n",
    "print(f\"BERT Accuracy: {accuracy_bert * 100:.2f}%\")\n"
   ],
   "metadata": {
    "colab": {
     "base_uri": "https://localhost:8080/",
     "height": 344,
     "referenced_widgets": [
      "d95e30bdc0704403ac8c725511d8e793",
      "d832489367d84688b0b20852f8806a28",
      "e6b8e025e88f4bc1ab7d494d68642134",
      "985d821139414c86ac901fbfb73e69a4",
      "0e6a37870fe44982864dec8b2c2562ae",
      "147c58034783465098fabe16302c9e1a",
      "eb65a340aaef4b76a77c1e1cbc29f789",
      "817865384cb340988aef1c4652f5acd3",
      "71ed316d28ab4d8294c0ee4723aa0088",
      "c3f693ba63214e7c8e2d3d565fe4d21e",
      "196e0ef873604a41bdbd05e962055ad9",
      "8e69b94c5cb948cabf829d25ef6628b6",
      "56b63bb6406742c183c77fe0fdd73951",
      "88e853a632fb4165b22f3f5344fc87d2",
      "8c515548d1404716a94a85bb3df06a69",
      "df8840787ecc45b59d685cebec8d1447",
      "d8a7b8e06a574521a134522fa9ec5f68",
      "0f440b26affe451b83ebc9c329f4610a",
      "34f5602079a34d2ca2411a2d6d981f2c",
      "c3140ea7270f4cfea7632a7f6e807a17",
      "d56097243f7b43ea834d307076b096fe",
      "62b49af539d4485ba36f2c740fd60fc9"
     ]
    },
    "id": "GljM1fC0slBS",
    "executionInfo": {
     "status": "ok",
     "timestamp": 1729164431401,
     "user_tz": -540,
     "elapsed": 8495082,
     "user": {
      "displayName": "주곰돌",
      "userId": "12691774689057394647"
     }
    },
    "outputId": "3b094d42-b61d-4f30-a6c8-a831e9c35658",
    "ExecuteTime": {
     "end_time": "2024-10-18T00:53:42.540714Z",
     "start_time": "2024-10-18T00:42:31.513875Z"
    }
   },
   "outputs": [
    {
     "data": {
      "text/plain": [
       "Map:   0%|          | 0/2456 [00:00<?, ? examples/s]"
      ],
      "application/vnd.jupyter.widget-view+json": {
       "version_major": 2,
       "version_minor": 0,
       "model_id": "61080efdb5d0478e82a39299d713a647"
      }
     },
     "metadata": {},
     "output_type": "display_data"
    },
    {
     "data": {
      "text/plain": [
       "Map:   0%|          | 0/614 [00:00<?, ? examples/s]"
      ],
      "application/vnd.jupyter.widget-view+json": {
       "version_major": 2,
       "version_minor": 0,
       "model_id": "995414ee7e4746d3ba6da8aa70a6cc1a"
      }
     },
     "metadata": {},
     "output_type": "display_data"
    },
    {
     "name": "stderr",
     "output_type": "stream",
     "text": [
      "Some weights of BertForSequenceClassification were not initialized from the model checkpoint at bert-base-uncased and are newly initialized: ['classifier.bias', 'classifier.weight']\n",
      "You should probably TRAIN this model on a down-stream task to be able to use it for predictions and inference.\n",
      "/Users/jhjoo/miniconda3/lib/python3.12/site-packages/transformers/training_args.py:1545: FutureWarning: `evaluation_strategy` is deprecated and will be removed in version 4.46 of 🤗 Transformers. Use `eval_strategy` instead\n",
      "  warnings.warn(\n"
     ]
    },
    {
     "data": {
      "text/plain": [
       "<IPython.core.display.HTML object>"
      ],
      "text/html": [
       "\n",
       "    <div>\n",
       "      \n",
       "      <progress value='614' max='614' style='width:300px; height:20px; vertical-align: middle;'></progress>\n",
       "      [614/614 10:21, Epoch 2/2]\n",
       "    </div>\n",
       "    <table border=\"1\" class=\"dataframe\">\n",
       "  <thead>\n",
       " <tr style=\"text-align: left;\">\n",
       "      <th>Epoch</th>\n",
       "      <th>Training Loss</th>\n",
       "      <th>Validation Loss</th>\n",
       "    </tr>\n",
       "  </thead>\n",
       "  <tbody>\n",
       "    <tr>\n",
       "      <td>1</td>\n",
       "      <td>0.920900</td>\n",
       "      <td>0.599102</td>\n",
       "    </tr>\n",
       "    <tr>\n",
       "      <td>2</td>\n",
       "      <td>0.442400</td>\n",
       "      <td>0.555154</td>\n",
       "    </tr>\n",
       "  </tbody>\n",
       "</table><p>"
      ]
     },
     "metadata": {},
     "output_type": "display_data"
    },
    {
     "data": {
      "text/plain": [
       "<IPython.core.display.HTML object>"
      ],
      "text/html": []
     },
     "metadata": {},
     "output_type": "display_data"
    },
    {
     "name": "stdout",
     "output_type": "stream",
     "text": [
      "BERT Accuracy: 79.97%\n"
     ]
    }
   ],
   "execution_count": 13
  },
  {
   "cell_type": "markdown",
   "source": [
    "## 테스트\\#2"
   ],
   "metadata": {
    "id": "bUlBFczH7HQM"
   }
  },
  {
   "cell_type": "markdown",
   "source": [
    "### 이모지 제거 및 소문자로 정리 후 성능 확인"
   ],
   "metadata": {
    "id": "Zt-EtpPG4e9h"
   }
  },
  {
   "cell_type": "code",
   "source": [
    "import re\n",
    "\n",
    "# 이모지 제거를 위한 함수 정의\n",
    "def remove_emoji(text):\n",
    "    emoji_pattern = re.compile(\n",
    "        \"[\"\n",
    "        u\"\\U0001F600-\\U0001F64F\"  # 이모지 범위: emoticons\n",
    "        u\"\\U0001F300-\\U0001F5FF\"  # 심볼 & 픽토그램\n",
    "        u\"\\U0001F680-\\U0001F6FF\"  # 운송 및 지도 기호\n",
    "        u\"\\U0001F700-\\U0001F77F\"  # 알케미 기호\n",
    "        u\"\\U0001F780-\\U0001F7FF\"  # 추가 심볼\n",
    "        u\"\\U0001F800-\\U0001F8FF\"  # 추가 픽토그램\n",
    "        u\"\\U0001F900-\\U0001F9FF\"  # 추가 손모양 & 신체 부위\n",
    "        u\"\\U0001FA00-\\U0001FA6F\"  # 추가 객체\n",
    "        u\"\\U0001FA70-\\U0001FAFF\"  # 추가 기호\n",
    "        u\"\\U00002702-\\U000027B0\"  # 다양한 심볼\n",
    "        u\"\\U000024C2-\\U0001F251\"\n",
    "        \"]+\", flags=re.UNICODE)\n",
    "    return emoji_pattern.sub(r'', text)\n",
    "\n",
    "# 특수문자 제거를 위한 함수 정의\n",
    "def remove_special_characters(text):\n",
    "    return re.sub(r'[^a-zA-Z0-9\\s]', '', text)  # 알파벳, 숫자, 공백을 제외한 모든 문자 제거\n"
   ],
   "metadata": {
    "id": "RtwmYM5C51oJ",
    "executionInfo": {
     "status": "ok",
     "timestamp": 1729209359570,
     "user_tz": -540,
     "elapsed": 371,
     "user": {
      "displayName": "주곰돌",
      "userId": "12691774689057394647"
     }
    },
    "ExecuteTime": {
     "end_time": "2024-10-18T00:58:31.271458Z",
     "start_time": "2024-10-18T00:58:31.267675Z"
    }
   },
   "outputs": [],
   "execution_count": 18
  },
  {
   "cell_type": "code",
   "source": [
    "# 소문자로 변환\n",
    "cleaned_df['verified_reviews'] = cleaned_df['verified_reviews'].str.lower()"
   ],
   "metadata": {
    "id": "KoWFfh2W6Bmq",
    "executionInfo": {
     "status": "ok",
     "timestamp": 1729209416009,
     "user_tz": -540,
     "elapsed": 375,
     "user": {
      "displayName": "주곰돌",
      "userId": "12691774689057394647"
     }
    },
    "ExecuteTime": {
     "end_time": "2024-10-18T00:58:32.699485Z",
     "start_time": "2024-10-18T00:58:32.694951Z"
    }
   },
   "outputs": [],
   "execution_count": 19
  },
  {
   "cell_type": "code",
   "source": [
    "# 이모지와 특수문자 제거\n",
    "cleaned_df['verified_reviews'] = cleaned_df['verified_reviews'].apply(remove_emoji)  # 이모지 제거\n",
    "cleaned_df['verified_reviews'] = cleaned_df['verified_reviews'].apply(remove_special_characters)  # 특수문자 제거"
   ],
   "metadata": {
    "id": "jdcBtvsC6BOt",
    "executionInfo": {
     "status": "ok",
     "timestamp": 1729209418079,
     "user_tz": -540,
     "elapsed": 359,
     "user": {
      "displayName": "주곰돌",
      "userId": "12691774689057394647"
     }
    },
    "ExecuteTime": {
     "end_time": "2024-10-18T00:58:33.050933Z",
     "start_time": "2024-10-18T00:58:33.026437Z"
    }
   },
   "outputs": [],
   "execution_count": 20
  },
  {
   "cell_type": "code",
   "source": [
    "from sklearn.feature_extraction.text import TfidfVectorizer\n",
    "from sklearn.model_selection import train_test_split\n",
    "from sklearn.svm import SVC\n",
    "from sklearn.linear_model import LogisticRegression\n",
    "from sklearn.ensemble import RandomForestClassifier\n",
    "from sklearn.neighbors import KNeighborsClassifier\n",
    "from sklearn.metrics import accuracy_score\n",
    "\n",
    "\n",
    "# 1. 리뷰 데이터와 별점 분리\n",
    "X = cleaned_df['verified_reviews']\n",
    "y = cleaned_df['rating']\n",
    "\n",
    "# 2. TF-IDF 벡터화 (텍스트 -> 숫자 변환)\n",
    "vectorizer = TfidfVectorizer(stop_words='english', max_features=1000)\n",
    "X_tfidf = vectorizer.fit_transform(X)\n",
    "\n",
    "# 3. 학습 데이터와 테스트 데이터 분리 (80% 학습, 20% 테스트)\n",
    "X_train, X_test, y_train, y_test = train_test_split(X_tfidf, y, test_size=0.2, random_state=42)\n",
    "\n",
    "\n",
    "# 4. 각 모델 학습 및 예측\n",
    "models = {\n",
    "    'SVM': SVC(kernel='linear'),\n",
    "    'Logistic Regression': LogisticRegression(),\n",
    "    'Random Forest': RandomForestClassifier(),\n",
    "    'KNN': KNeighborsClassifier(),\n",
    "}\n",
    "\n",
    "# 5. 모델별 성능 평가\n",
    "accuracy_results = {}\n",
    "for model_name, model in models.items():\n",
    "    model.fit(X_train, y_train)\n",
    "    y_pred = model.predict(X_test)\n",
    "    accuracy = accuracy_score(y_test, y_pred)\n",
    "    accuracy_results[model_name] = accuracy\n",
    "\n",
    "# 6. 모델별 정확도 출력\n",
    "for model_name, accuracy in accuracy_results.items():\n",
    "    print(f\"{model_name}: {accuracy * 100:.2f}%\")\n",
    "\n",
    "\n",
    "# 이모지 및 특수문자 제거, 전체 소문자로 변경 결과\n",
    "# SVM: 77.85%\n",
    "# Logistic Regression: 76.71%\n",
    "# Random Forest: 84.04%\n",
    "# KNN: 70.03%"
   ],
   "metadata": {
    "colab": {
     "base_uri": "https://localhost:8080/"
    },
    "id": "G9NfsGfe4es1",
    "executionInfo": {
     "status": "ok",
     "timestamp": 1729209424687,
     "user_tz": -540,
     "elapsed": 4200,
     "user": {
      "displayName": "주곰돌",
      "userId": "12691774689057394647"
     }
    },
    "outputId": "85512da5-7fbd-4776-c29b-c7e9798c56dd",
    "ExecuteTime": {
     "end_time": "2024-10-18T00:58:35.149294Z",
     "start_time": "2024-10-18T00:58:34.133604Z"
    }
   },
   "outputs": [
    {
     "name": "stdout",
     "output_type": "stream",
     "text": [
      "SVM: 77.85%\n",
      "Logistic Regression: 76.71%\n",
      "Random Forest: 83.55%\n",
      "KNN: 71.66%\n"
     ]
    }
   ],
   "execution_count": 21
  },
  {
   "metadata": {
    "ExecuteTime": {
     "end_time": "2024-10-18T00:53:44.492711Z",
     "start_time": "2024-10-18T00:53:44.489795Z"
    }
   },
   "cell_type": "code",
   "source": "",
   "outputs": [],
   "execution_count": null
  }
 ]
}
