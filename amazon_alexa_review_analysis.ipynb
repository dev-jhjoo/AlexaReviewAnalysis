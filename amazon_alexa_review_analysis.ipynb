{
 "cells": [
  {
   "metadata": {},
   "cell_type": "markdown",
   "source": "# 데이터 로드 및 확인",
   "id": "c3dfa5c1d536a26b"
  },
  {
   "metadata": {},
   "cell_type": "markdown",
   "source": [
    "### 데이터 확인\n",
    "* rating: 제품에 대한 평점\n",
    "* date: 리뷰 작성 날짜\n",
    "* variation: 제품의 색상 및 기타 변형 정보\n",
    "* verified_reviews: 실제 리뷰 텍스트\n",
    "* feedback: 긍정적인 피드백 여부 (1: 긍정적, 0: 부정적)"
   ],
   "id": "8b2dbf6002b3e5cb"
  },
  {
   "cell_type": "code",
   "id": "initial_id",
   "metadata": {
    "collapsed": true,
    "ExecuteTime": {
     "end_time": "2024-10-21T01:44:43.733569Z",
     "start_time": "2024-10-21T01:44:43.711784Z"
    }
   },
   "source": [
    "import pandas as pd\n",
    "\n",
    "# 데이터 파일 경로\n",
    "file_path = 'data/amazon_alexa.tsv'\n",
    "# 데이터 로드\n",
    "alexa_data = pd.read_csv(file_path, sep='\\t')\n",
    "# 데이터 상위 5개 행 확인\n",
    "alexa_data.head()\n"
   ],
   "outputs": [
    {
     "data": {
      "text/plain": [
       "   rating       date         variation  \\\n",
       "0       5  31-Jul-18  Charcoal Fabric    \n",
       "1       5  31-Jul-18  Charcoal Fabric    \n",
       "2       4  31-Jul-18    Walnut Finish    \n",
       "3       5  31-Jul-18  Charcoal Fabric    \n",
       "4       5  31-Jul-18  Charcoal Fabric    \n",
       "\n",
       "                                    verified_reviews  feedback  \n",
       "0                                      Love my Echo!         1  \n",
       "1                                          Loved it!         1  \n",
       "2  Sometimes while playing a game, you can answer...         1  \n",
       "3  I have had a lot of fun with this thing. My 4 ...         1  \n",
       "4                                              Music         1  "
      ],
      "text/html": [
       "<div>\n",
       "<style scoped>\n",
       "    .dataframe tbody tr th:only-of-type {\n",
       "        vertical-align: middle;\n",
       "    }\n",
       "\n",
       "    .dataframe tbody tr th {\n",
       "        vertical-align: top;\n",
       "    }\n",
       "\n",
       "    .dataframe thead th {\n",
       "        text-align: right;\n",
       "    }\n",
       "</style>\n",
       "<table border=\"1\" class=\"dataframe\">\n",
       "  <thead>\n",
       "    <tr style=\"text-align: right;\">\n",
       "      <th></th>\n",
       "      <th>rating</th>\n",
       "      <th>date</th>\n",
       "      <th>variation</th>\n",
       "      <th>verified_reviews</th>\n",
       "      <th>feedback</th>\n",
       "    </tr>\n",
       "  </thead>\n",
       "  <tbody>\n",
       "    <tr>\n",
       "      <th>0</th>\n",
       "      <td>5</td>\n",
       "      <td>31-Jul-18</td>\n",
       "      <td>Charcoal Fabric</td>\n",
       "      <td>Love my Echo!</td>\n",
       "      <td>1</td>\n",
       "    </tr>\n",
       "    <tr>\n",
       "      <th>1</th>\n",
       "      <td>5</td>\n",
       "      <td>31-Jul-18</td>\n",
       "      <td>Charcoal Fabric</td>\n",
       "      <td>Loved it!</td>\n",
       "      <td>1</td>\n",
       "    </tr>\n",
       "    <tr>\n",
       "      <th>2</th>\n",
       "      <td>4</td>\n",
       "      <td>31-Jul-18</td>\n",
       "      <td>Walnut Finish</td>\n",
       "      <td>Sometimes while playing a game, you can answer...</td>\n",
       "      <td>1</td>\n",
       "    </tr>\n",
       "    <tr>\n",
       "      <th>3</th>\n",
       "      <td>5</td>\n",
       "      <td>31-Jul-18</td>\n",
       "      <td>Charcoal Fabric</td>\n",
       "      <td>I have had a lot of fun with this thing. My 4 ...</td>\n",
       "      <td>1</td>\n",
       "    </tr>\n",
       "    <tr>\n",
       "      <th>4</th>\n",
       "      <td>5</td>\n",
       "      <td>31-Jul-18</td>\n",
       "      <td>Charcoal Fabric</td>\n",
       "      <td>Music</td>\n",
       "      <td>1</td>\n",
       "    </tr>\n",
       "  </tbody>\n",
       "</table>\n",
       "</div>"
      ]
     },
     "execution_count": 1,
     "metadata": {},
     "output_type": "execute_result"
    }
   ],
   "execution_count": 1
  },
  {
   "metadata": {
    "ExecuteTime": {
     "end_time": "2024-10-21T01:49:30.011905Z",
     "start_time": "2024-10-21T01:49:30.005636Z"
    }
   },
   "cell_type": "code",
   "source": "alexa_data.info()",
   "id": "e625228b8531bd55",
   "outputs": [
    {
     "name": "stdout",
     "output_type": "stream",
     "text": [
      "<class 'pandas.core.frame.DataFrame'>\n",
      "RangeIndex: 3150 entries, 0 to 3149\n",
      "Data columns (total 5 columns):\n",
      " #   Column            Non-Null Count  Dtype \n",
      "---  ------            --------------  ----- \n",
      " 0   rating            3150 non-null   int64 \n",
      " 1   date              3150 non-null   object\n",
      " 2   variation         3150 non-null   object\n",
      " 3   verified_reviews  3149 non-null   object\n",
      " 4   feedback          3150 non-null   int64 \n",
      "dtypes: int64(2), object(3)\n",
      "memory usage: 123.2+ KB\n"
     ]
    }
   ],
   "execution_count": 3
  },
  {
   "metadata": {},
   "cell_type": "markdown",
   "source": "# 텍스트 전처리",
   "id": "4457765310e78f05"
  },
  {
   "metadata": {},
   "cell_type": "markdown",
   "source": "### null, 공백 리뷰 제거, 불용어 제거, 표제어 처리, 소문자 변환",
   "id": "28246d245180df93"
  },
  {
   "metadata": {},
   "cell_type": "code",
   "outputs": [],
   "execution_count": null,
   "source": [
    "import re\n",
    "from nltk.corpus import stopwords\n",
    "from nltk.tokenize import word_tokenize\n",
    "from nltk.stem import WordNetLemmatizer\n",
    "\n",
    "# NLTK 불용어 리스트 다운로드\n",
    "import nltk\n",
    "nltk.download('punkt_tab')\n",
    "nltk.download('stopwords')\n",
    "nltk.download('wordnet')\n",
    "nltk.download('omw-1.4')\n",
    "\n",
    "# 불용어, 표제어 리스트 가져오기\n",
    "stop_words = set(stopwords.words('english'))\n",
    "lemmatizer = WordNetLemmatizer()\n",
    "\n",
    "def transform_text(text):\n",
    "    # 소문자 변환\n",
    "    text = text.lower()\n",
    "    \n",
    "    # 특수 문자 및 숫자 제거\n",
    "    text = re.sub(\"[^a-zA-Z\\s]\", \"\", re.sub('\\n', '', text))\n",
    "\n",
    "    # 불용어\n",
    "    tokens = word_tokenize(text)\n",
    "    new_string = []\n",
    "    for w in tokens:\n",
    "        if w not in stop_words:\n",
    "            new_string.append(w)\n",
    "\n",
    "    s = ' '.join(new_string)\n",
    "    s = s.strip()\n",
    "\n",
    "    # 표제어\n",
    "    tokens = word_tokenize(s)\n",
    "    new_string = []\n",
    "    for w in tokens:\n",
    "        lem = lemmatizer.lemmatize(w, pos='v')\n",
    "        new_string.append(lem)\n",
    "\n",
    "    s = ' '.join(new_string)\n",
    "    return s.strip()\n",
    "\n",
    "\n",
    "# 1차 null 및 공백 리뷰 제거\n",
    "empty_review = alexa_data['verified_reviews'].replace(' ', '') == ''\n",
    "null_review = alexa_data['verified_reviews'].isnull()\n",
    "cleaned_df = alexa_data.drop(alexa_data[empty_review | null_review].index)\n",
    "\n",
    "# 전처리 적용\n",
    "cleaned_df['cleaned_reviews'] = cleaned_df['verified_reviews'].apply(transform_text)\n",
    "\n",
    "# 전처리 후 2차 null 및 공백 리뷰 제거\n",
    "empty_review = cleaned_df['cleaned_reviews'].replace(' ', '') == ''\n",
    "null_review = cleaned_df['cleaned_reviews'].isnull()\n",
    "cleaned_df = cleaned_df.drop(cleaned_df[empty_review | null_review].index)\n",
    "\n",
    "# 전처리 후 데이터 확인\n",
    "cleaned_df[['verified_reviews', 'cleaned_reviews']].head()\n"
   ],
   "id": "58cfc4737758f064"
  },
  {
   "metadata": {},
   "cell_type": "markdown",
   "source": "# 텍스트 백터화 및 모델 학습 준비",
   "id": "e310039204362b0"
  },
  {
   "metadata": {},
   "cell_type": "markdown",
   "source": "## 데이터 준비 및 벡터화",
   "id": "c5d9ec1b8e0c8d41"
  },
  {
   "metadata": {
    "ExecuteTime": {
     "end_time": "2024-10-21T01:53:33.940974Z",
     "start_time": "2024-10-21T01:53:33.727741Z"
    }
   },
   "cell_type": "code",
   "source": [
    "from sklearn.feature_extraction.text import TfidfVectorizer\n",
    "from sklearn.model_selection import train_test_split\n",
    "from sklearn.ensemble import RandomForestClassifier\n",
    "from sklearn.metrics import accuracy_score, confusion_matrix, classification_report\n",
    "\n",
    "# 텍스트 벡터화 (TF-IDF)\n",
    "vectorizer = TfidfVectorizer(max_features=5000)\n",
    "X = vectorizer.fit_transform(cleaned_df['cleaned_reviews'])\n",
    "\n",
    "# 평점(rating) 데이터 준비\n",
    "y = cleaned_df['rating']  # 1~5 사이의 평점\n",
    "\n",
    "# 학습/테스트 데이터 분리\n",
    "X_train, X_test, y_train, y_test = train_test_split(X, y, test_size=0.2, random_state=42)\n"
   ],
   "id": "a332881268815a9a",
   "outputs": [],
   "execution_count": 5
  },
  {
   "metadata": {},
   "cell_type": "markdown",
   "source": "## 모델 학습(RF)",
   "id": "98843d56c5eface5"
  },
  {
   "metadata": {
    "ExecuteTime": {
     "end_time": "2024-10-21T01:53:37.455512Z",
     "start_time": "2024-10-21T01:53:36.071344Z"
    }
   },
   "cell_type": "code",
   "source": [
    "# 랜덤 포레스트 모델 학습 (다중 클래스 분류)\n",
    "rf_model = RandomForestClassifier(n_estimators=100, random_state=42)\n",
    "rf_model.fit(X_train, y_train)\n",
    "\n",
    "# 예측\n",
    "y_pred = rf_model.predict(X_test)\n",
    "\n",
    "# 정확도 평가\n",
    "accuracy = accuracy_score(y_test, y_pred)\n",
    "print(f\"평점 예측 모델 정확도: {accuracy:.4f}\")\n"
   ],
   "id": "49c76c6d6b7306a0",
   "outputs": [
    {
     "name": "stdout",
     "output_type": "stream",
     "text": [
      "평점 예측 모델 정확도: 0.8189\n"
     ]
    }
   ],
   "execution_count": 6
  },
  {
   "metadata": {},
   "cell_type": "markdown",
   "source": "## 모델 성능 평가 (혼동 행렬 및 분류 보고서)",
   "id": "b5a2d0712f1f478d"
  },
  {
   "metadata": {
    "ExecuteTime": {
     "end_time": "2024-10-21T01:53:43.168209Z",
     "start_time": "2024-10-21T01:53:43.157341Z"
    }
   },
   "cell_type": "code",
   "source": [
    "# 혼동 행렬 및 분류 보고서 출력\n",
    "conf_matrix = confusion_matrix(y_test, y_pred)\n",
    "class_report = classification_report(y_test, y_pred)\n",
    "\n",
    "print(\"혼동 행렬:\")\n",
    "print(conf_matrix)\n",
    "print(\"결과:\")\n",
    "print(class_report)\n"
   ],
   "id": "485552a2c72bc854",
   "outputs": [
    {
     "name": "stdout",
     "output_type": "stream",
     "text": [
      "혼동 행렬:\n",
      "[[ 10   0   0   1  16]\n",
      " [  1   3   0   0  13]\n",
      " [  0   0   8   0  18]\n",
      " [  0   1   0  38  57]\n",
      " [  1   0   0   3 443]]\n",
      "결과:\n",
      "              precision    recall  f1-score   support\n",
      "\n",
      "           1       0.83      0.37      0.51        27\n",
      "           2       0.75      0.18      0.29        17\n",
      "           3       1.00      0.31      0.47        26\n",
      "           4       0.90      0.40      0.55        96\n",
      "           5       0.81      0.99      0.89       447\n",
      "\n",
      "    accuracy                           0.82       613\n",
      "   macro avg       0.86      0.45      0.54       613\n",
      "weighted avg       0.83      0.82      0.79       613\n",
      "\n"
     ]
    }
   ],
   "execution_count": 7
  },
  {
   "metadata": {},
   "cell_type": "markdown",
   "source": "# 시각화",
   "id": "b389bc5440fd37c5"
  },
  {
   "metadata": {},
   "cell_type": "markdown",
   "source": "## 분류 모델 시각화",
   "id": "39842be2d868a84b"
  },
  {
   "metadata": {
    "ExecuteTime": {
     "end_time": "2024-10-21T01:54:51.375298Z",
     "start_time": "2024-10-21T01:54:51.245489Z"
    }
   },
   "cell_type": "code",
   "source": [
    "from sklearn.metrics import confusion_matrix\n",
    "import seaborn as sns\n",
    "import matplotlib.pyplot as plt\n",
    "\n",
    "# 혼동 행렬 생성\n",
    "conf_matrix = confusion_matrix(y_test, y_pred)\n",
    "\n",
    "# 혼동 행렬 시각화\n",
    "plt.figure(figsize=(8, 6))\n",
    "sns.heatmap(conf_matrix, annot=True, fmt='d', cmap='Blues', xticklabels=[1, 2, 3, 4, 5], yticklabels=[1, 2, 3, 4, 5])\n",
    "plt.xlabel('Predicted')\n",
    "plt.ylabel('Actual')\n",
    "plt.title('Confusion Matrix')\n",
    "plt.show()\n"
   ],
   "id": "34f40993c75d3136",
   "outputs": [
    {
     "data": {
      "text/plain": [
       "<Figure size 800x600 with 2 Axes>"
      ],
      "image/png": "[encoded data removed]"
     },
     "metadata": {},
     "output_type": "display_data"
    }
   ],
   "execution_count": 8
  },
  {
   "metadata": {},
   "cell_type": "markdown",
   "source": "# 결과",
   "id": "393a462401033ed9"
  },
  {
   "metadata": {},
   "cell_type": "markdown",
   "source": [
    "## 오분류 된 리뷰 확인\n",
    "* 기존 점수와 예측된 점수가 2점이상 차이가 나는 리뷰를 오분류됨으로 정의"
   ],
   "id": "d9da3ce176847457"
  },
  {
   "metadata": {
    "ExecuteTime": {
     "end_time": "2024-10-21T01:55:07.424456Z",
     "start_time": "2024-10-21T01:55:07.311914Z"
    }
   },
   "cell_type": "code",
   "source": [
    "# 예측 결과 저장 (y_pred는 이미 예측된 결과)\n",
    "cleaned_df['predicted_rating'] = rf_model.predict(X)\n",
    "# 실제 값과 예측 값 비교\n",
    "mismatched_reviews = cleaned_df[cleaned_df['rating'] != cleaned_df['predicted_rating']]\n",
    "# 잘못 예측된 리뷰들 확인\n",
    "misclassification_df = mismatched_reviews[['verified_reviews', 'cleaned_reviews', 'rating', 'predicted_rating']][abs(mismatched_reviews['rating'] - mismatched_reviews['predicted_rating']) >= 2]\n",
    "\n",
    "misclassification_df.to_csv('out/misclassification_df.csv', index=False)\n"
   ],
   "id": "8581b6095339b84c",
   "outputs": [],
   "execution_count": 9
  }
 ],
 "metadata": {
  "kernelspec": {
   "display_name": "Python 3",
   "language": "python",
   "name": "python3"
  },
  "language_info": {
   "codemirror_mode": {
    "name": "ipython",
    "version": 2
   },
   "file_extension": ".py",
   "mimetype": "text/x-python",
   "name": "python",
   "nbconvert_exporter": "python",
   "pygments_lexer": "ipython2",
   "version": "2.7.6"
  }
 },
 "nbformat": 4,
 "nbformat_minor": 5
}
